{
 "cells": [
  {
   "cell_type": "code",
   "execution_count": 70,
   "id": "2bbd1c4a",
   "metadata": {},
   "outputs": [],
   "source": [
    "import logging\n",
    "\n",
    "import pandas as pd\n",
    "import numpy as np\n",
    "from math import sqrt\n",
    "\n",
    "from sklearn.model_selection import train_test_split\n",
    "from sklearn.ensemble import RandomForestRegressor\n",
    "from sklearn.preprocessing import StandardScaler\n",
    "from sklearn.metrics import mean_squared_error\n",
    "from sklearn.pipeline import Pipeline\n",
    "#from sklearn.grid_search import GridSearchCV\n",
    "\n",
    "from urllib.parse import urlparse\n",
    "import mlflow \n",
    "import mlflow.sklearn \n",
    "\n",
    "logging.basicConfig(level=logging.WARN)\n",
    "logger = logging.getLogger(__name__)"
   ]
  },
  {
   "cell_type": "code",
   "execution_count": 71,
   "id": "49c35a2a",
   "metadata": {},
   "outputs": [],
   "source": [
    "from sklearn.base import BaseEstimator, TransformerMixin"
   ]
  },
  {
   "cell_type": "code",
   "execution_count": 75,
   "id": "4792d532",
   "metadata": {},
   "outputs": [],
   "source": [
    "#Get datetime features\n",
    "class DateExtractor(BaseEstimator,TransformerMixin):\n",
    "    def __init__(self):\n",
    "        print('Pre processor initiated')\n",
    "    \n",
    "    def fit(self,X,y):\n",
    "        return self\n",
    "    \n",
    "    def transform(self,x):\n",
    "        dataset = x.copy()\n",
    "        \n",
    "        dataset['month'] = dataset.index.month\n",
    "        dataset['year'] = dataset.index.year\n",
    "        dataset['day'] = dataset.index.day\n",
    "        dataset['weekofYear'] = dataset.index.weekofyear\n",
    "        dataset.reset_index(inplace=True)\n",
    "        dataset.drop(['Date','Sales'], axis=1, inplace=True)\n",
    "        \n",
    "        dataset = pd.get_dummies(dataset)\n",
    "        return dataset"
   ]
  },
  {
   "cell_type": "code",
   "execution_count": 76,
   "id": "b292389d",
   "metadata": {},
   "outputs": [],
   "source": [
    "def rmse(x, y):\n",
    "    return sqrt(mean_squared_error(x, y))\n",
    "\n",
    "# definte MAPE function\n",
    "def mape(x, y): \n",
    "    return np.mean(np.abs((x - y) / x)) * 100  \n",
    "  "
   ]
  },
  {
   "cell_type": "code",
   "execution_count": 84,
   "id": "9c9fde60",
   "metadata": {},
   "outputs": [
    {
     "name": "stdout",
     "output_type": "stream",
     "text": [
      "Pre processor initiated\n"
     ]
    },
    {
     "name": "stderr",
     "output_type": "stream",
     "text": [
      "<ipython-input-75-9fa067fd895a>:14: FutureWarning: weekofyear and week have been deprecated, please use DatetimeIndex.isocalendar().week instead, which returns a Series.  To exactly reproduce the behavior of week and weekofyear and return an Index, you may call pd.Int64Index(idx.isocalendar().week)\n",
      "  dataset['weekofYear'] = dataset.index.weekofyear\n",
      "<ipython-input-75-9fa067fd895a>:14: FutureWarning: weekofyear and week have been deprecated, please use DatetimeIndex.isocalendar().week instead, which returns a Series.  To exactly reproduce the behavior of week and weekofyear and return an Index, you may call pd.Int64Index(idx.isocalendar().week)\n",
      "  dataset['weekofYear'] = dataset.index.weekofyear\n",
      "<ipython-input-75-9fa067fd895a>:14: FutureWarning: weekofyear and week have been deprecated, please use DatetimeIndex.isocalendar().week instead, which returns a Series.  To exactly reproduce the behavior of week and weekofyear and return an Index, you may call pd.Int64Index(idx.isocalendar().week)\n",
      "  dataset['weekofYear'] = dataset.index.weekofyear\n",
      "<ipython-input-75-9fa067fd895a>:14: FutureWarning: weekofyear and week have been deprecated, please use DatetimeIndex.isocalendar().week instead, which returns a Series.  To exactly reproduce the behavior of week and weekofyear and return an Index, you may call pd.Int64Index(idx.isocalendar().week)\n",
      "  dataset['weekofYear'] = dataset.index.weekofyear\n"
     ]
    },
    {
     "name": "stdout",
     "output_type": "stream",
     "text": [
      "Regresion Model Score : 0.993016919266062 , Out of Sample Test Score : 0.9541499810823433\n"
     ]
    },
    {
     "name": "stderr",
     "output_type": "stream",
     "text": [
      "<ipython-input-75-9fa067fd895a>:14: FutureWarning: weekofyear and week have been deprecated, please use DatetimeIndex.isocalendar().week instead, which returns a Series.  To exactly reproduce the behavior of week and weekofyear and return an Index, you may call pd.Int64Index(idx.isocalendar().week)\n",
      "  dataset['weekofYear'] = dataset.index.weekofyear\n"
     ]
    }
   ],
   "source": [
    "try:\n",
    "    train = pd.read_csv(r\"..\\data\\train.csv\",parse_dates = True, low_memory = False,index_col = 'Date')\n",
    "    store = pd.read_csv(r'..\\data\\store.csv',low_memory = False)\n",
    "    test = pd.read_csv(r'..\\data\\test.csv',low_memory = False)\n",
    "except Exception as e:\n",
    "    logger.exception(\"Unable to load csv file\", e)\n",
    "\n",
    "with mlflow.start_run():\n",
    "    X = train.copy()\n",
    "    y= train.Sales\n",
    "    X_train, X_test, y_train, y_test = train_test_split(X, y)\n",
    "    \n",
    "    model_pipeline = Pipeline(\n",
    "            steps = [\n",
    "                ('datetime_features', DateExtractor()),\n",
    "                ('rdf',RandomForestRegressor(n_estimators=30))\n",
    "            ]\n",
    "    )\n",
    "    parameters = {\n",
    "    'rdf__max_depth': (150, 155, 160),\n",
    "    'rdf__min_samples_split': (1, 2, 3),\n",
    "    'rdf__min_samples_leaf': (1, 2, 3)\n",
    "    }\n",
    "     \n",
    "    model_pipeline.fit(X_train,y_train)\n",
    "    y_pred = model_pipeline.predict(X_test)\n",
    "    print(\"Regresion Model Score\" , \":\" , model_pipeline.score(X_train, y_train) , \",\" ,\n",
    "          \"Out of Sample Test Score\" ,\":\" , model_pipeline.score(X_test, y_test))\n",
    "            \n",
    "        \n",
    "    mlflow.log_metric(\"r\", model_pipeline.score(X_test, y_test))\n",
    "    mlflow.log_metric(\"rmse\", rmse(y_test, y_pred))\n",
    "    mlflow.log_metric(\"mape\", mape(y_test, y_pred))\n",
    "        \n",
    "    mlflow.sklearn.log_model(model_pipeline, \"model\")\n"
   ]
  }
 ],
 "metadata": {
  "kernelspec": {
   "display_name": "Python 3",
   "language": "python",
   "name": "python3"
  },
  "language_info": {
   "codemirror_mode": {
    "name": "ipython",
    "version": 3
   },
   "file_extension": ".py",
   "mimetype": "text/x-python",
   "name": "python",
   "nbconvert_exporter": "python",
   "pygments_lexer": "ipython3",
   "version": "3.8.8"
  }
 },
 "nbformat": 4,
 "nbformat_minor": 5
}
