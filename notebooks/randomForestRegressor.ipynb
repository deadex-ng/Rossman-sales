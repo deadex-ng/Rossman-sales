{
 "cells": [
  {
   "cell_type": "code",
   "execution_count": 7,
   "id": "2bbd1c4a",
   "metadata": {},
   "outputs": [],
   "source": [
    "import logging\n",
    "import warnings\n",
    "warnings.filterwarnings(\"ignore\")\n",
    "\n",
    "import pandas as pd\n",
    "import numpy as np\n",
    "import matplotlib.pyplot as plt\n",
    "from math import sqrt\n",
    "import datetime\n",
    "\n",
    "from sklearn.model_selection import train_test_split\n",
    "from sklearn.ensemble import RandomForestRegressor\n",
    "from sklearn.preprocessing import StandardScaler\n",
    "from sklearn.metrics import mean_squared_error\n",
    "from sklearn.pipeline import Pipeline\n",
    "from sklearn.model_selection import GridSearchCV\n",
    "from sklearn.metrics import classification_report\n",
    "\n",
    "from urllib.parse import urlparse\n",
    "import mlflow \n",
    "import mlflow.sklearn \n",
    "\n",
    "import joblib\n",
    "import pickle\n",
    "\n",
    "logging.basicConfig(level=logging.WARN)\n",
    "logger = logging.getLogger(__name__)"
   ]
  },
  {
   "cell_type": "code",
   "execution_count": 8,
   "id": "49c35a2a",
   "metadata": {},
   "outputs": [],
   "source": [
    "from sklearn.base import BaseEstimator, TransformerMixin"
   ]
  },
  {
   "cell_type": "code",
   "execution_count": 9,
   "id": "4792d532",
   "metadata": {},
   "outputs": [],
   "source": [
    "#Get datetime features\n",
    "class DateExtractor(BaseEstimator,TransformerMixin):\n",
    "    def __init__(self):\n",
    "        print('Pre processor initiated')\n",
    "    \n",
    "    def fit(self,X,y):\n",
    "        return self\n",
    "    \n",
    "    def transform(self,x):\n",
    "        dataset = x.copy()\n",
    "        \n",
    "        dataset['month'] = dataset.index.month\n",
    "        dataset['year'] = dataset.index.year\n",
    "        dataset['day'] = dataset.index.day\n",
    "        dataset['weekofYear'] = dataset.index.weekofyear\n",
    "        dataset.reset_index(inplace=True)\n",
    "        dataset.drop(['Date','Sales','Customers'], axis=1, inplace=True)\n",
    "        \n",
    "        dataset = pd.get_dummies(dataset)\n",
    "        return dataset"
   ]
  },
  {
   "cell_type": "code",
   "execution_count": 10,
   "id": "b292389d",
   "metadata": {},
   "outputs": [],
   "source": [
    "#rmse shows the error of the model in predicting quantitative data\n",
    "def rmse(x, y):\n",
    "    return sqrt(mean_squared_error(x, y))\n",
    "\n",
    "\n",
    "#mape measures how acurate a forecast is \n",
    "def mape(x, y): \n",
    "    return np.mean(np.abs((x - y) / x)) * 100  \n",
    "  "
   ]
  },
  {
   "cell_type": "code",
   "execution_count": 11,
   "id": "9c9fde60",
   "metadata": {},
   "outputs": [
    {
     "name": "stdout",
     "output_type": "stream",
     "text": [
      "Pre processor initiated\n",
      "Regresion Model Score : 0.9763518630768218 , Out of Sample Test Score : 0.8432984625630713\n"
     ]
    }
   ],
   "source": [
    "try:\n",
    "    train = pd.read_csv(r\"..\\data\\train.csv\",parse_dates = True, low_memory = False,index_col = 'Date')\n",
    "    store = pd.read_csv(r'..\\data\\store.csv',low_memory = False)\n",
    "    test = pd.read_csv(r'..\\data\\test.csv',low_memory = False,index_col = 'Date')\n",
    "except Exception as e:\n",
    "    logger.exception(\"Unable to load csv file\", e)\n",
    "\n",
    "mlflow.set_experiment('pred_pharm_sales')\n",
    "with mlflow.start_run():\n",
    "    X = train.copy()\n",
    "    y= train.Sales\n",
    "    X_train, X_test, y_train, y_test = train_test_split(X, y)\n",
    "    \n",
    "    n_estimators = 30\n",
    "    \n",
    "    model_pipeline = Pipeline(\n",
    "            steps = [\n",
    "                ('datetime_features', DateExtractor()),\n",
    "                ('rdf',RandomForestRegressor(n_estimators=n_estimators))\n",
    "            ]\n",
    "    )\n",
    "    \n",
    "    mlflow.log_param(\"est_num\",n_estimators)\n",
    "    model_pipeline.fit(X_train,y_train)\n",
    "    \n",
    "    #file name with datetime stamp \n",
    "    #filename = datetime.datetime.now()\n",
    "    #cur_date_time_str = str(cur_date_time)\n",
    "    #extension = \".pkl\"\n",
    "    #filename = cur_date_time_str + extension\n",
    "    \n",
    "    #joblib.dump(model_pipeline.named_steps[\"rdf\"],filename)\n",
    "    #pickle.dump(model_pipeline.named_steps[\"rdf\"],open(filename,'wb'))\n",
    "    y_pred = model_pipeline.predict(X_test)\n",
    "    print(\"Regresion Model Score\" , \":\" , model_pipeline.score(X_train, y_train) , \",\" ,\n",
    "          \"Out of Sample Test Score\" ,\":\" , model_pipeline.score(X_test, y_test))\n",
    "            \n",
    "        \n",
    "    mlflow.log_metric(\"r\", model_pipeline.score(X_test, y_test))\n",
    "    mlflow.log_metric(\"rmse\", rmse(y_test, y_pred))\n",
    "    mlflow.log_metric(\"mape\", mape(y_test, y_pred))\n",
    "        \n",
    "    mlflow.sklearn.log_model(model_pipeline, \"model\")\n"
   ]
  },
  {
   "cell_type": "code",
   "execution_count": 12,
   "id": "1c1fe14b",
   "metadata": {},
   "outputs": [
    {
     "name": "stdout",
     "output_type": "stream",
     "text": [
      "Pre processor initiated\n"
     ]
    },
    {
     "data": {
      "text/plain": [
       "Text(0.5, 0, 'Relative Importance')"
      ]
     },
     "execution_count": 12,
     "metadata": {},
     "output_type": "execute_result"
    },
    {
     "data": {
      "image/png": "[encoded data removed]",
      "text/plain": [
       "<Figure size 576x720 with 1 Axes>"
      ]
     },
     "metadata": {
      "needs_background": "light"
     },
     "output_type": "display_data"
    }
   ],
   "source": [
    "x = DateExtractor()\n",
    "x = x.transform(X_train)\n",
    "features = x.columns\n",
    "importances = model_pipeline.named_steps[\"rdf\"].feature_importances_\n",
    "indices = np.argsort(importances)\n",
    "plt.figure(figsize=(8,10))\n",
    "plt.title('Feature Importances', fontsize=20)\n",
    "plt.barh(range(len(indices)), importances[indices], color='lightblue', align='center')\n",
    "plt.yticks(range(len(indices)), features[indices])\n",
    "plt.xlabel('Relative Importance')"
   ]
  },
  {
   "cell_type": "code",
   "execution_count": null,
   "id": "2920fb77",
   "metadata": {},
   "outputs": [],
   "source": []
  }
 ],
 "metadata": {
  "kernelspec": {
   "display_name": "Python 3",
   "language": "python",
   "name": "python3"
  },
  "language_info": {
   "codemirror_mode": {
    "name": "ipython",
    "version": 3
   },
   "file_extension": ".py",
   "mimetype": "text/x-python",
   "name": "python",
   "nbconvert_exporter": "python",
   "pygments_lexer": "ipython3",
   "version": "3.8.8"
  }
 },
 "nbformat": 4,
 "nbformat_minor": 5
}
