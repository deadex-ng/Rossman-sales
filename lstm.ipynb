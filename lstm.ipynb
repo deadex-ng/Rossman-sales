{
  "nbformat": 4,
  "nbformat_minor": 0,
  "metadata": {
    "colab": {
      "name": "lstm.ipynb",
      "provenance": [],
      "collapsed_sections": [],
      "authorship_tag": "ABX9TyPFWnzx+xZbNbyfYfYW3K7V",
      "include_colab_link": true
    },
    "kernelspec": {
      "name": "python3",
      "display_name": "Python 3"
    },
    "language_info": {
      "name": "python"
    }
  },
  "cells": [
    {
      "cell_type": "markdown",
      "metadata": {
        "id": "view-in-github",
        "colab_type": "text"
      },
      "source": [
        "<a href=\"https://colab.research.google.com/github/deadex-ng/Rossman-sales/blob/main/lstm.ipynb\" target=\"_parent\"><img src=\"https://colab.research.google.com/assets/colab-badge.svg\" alt=\"Open In Colab\"/></a>"
      ]
    },
    {
      "cell_type": "code",
      "metadata": {
        "colab": {
          "base_uri": "https://localhost:8080/"
        },
        "id": "Sg_8_RZFl_FF",
        "outputId": "07e80323-7c44-46ea-832e-d7823d41ef5e"
      },
      "source": [
        "from google.colab import drive \n",
        "\n",
        "drive.mount('/content/drive')"
      ],
      "execution_count": null,
      "outputs": [
        {
          "output_type": "stream",
          "text": [
            "Drive already mounted at /content/drive; to attempt to forcibly remount, call drive.mount(\"/content/drive\", force_remount=True).\n"
          ],
          "name": "stdout"
        }
      ]
    },
    {
      "cell_type": "code",
      "metadata": {
        "colab": {
          "base_uri": "https://localhost:8080/"
        },
        "id": "4yiTugPimLmT",
        "outputId": "612a1e60-b57c-4e4c-d636-0bd231606dbd"
      },
      "source": [
        "!ls \"/content/drive/My Drive\""
      ],
      "execution_count": null,
      "outputs": [
        {
          "output_type": "stream",
          "text": [
            " 1_hT2N_iAmjBi-7gryAzqjyQ.png\t\t    JobsFumbaniBanda.gdoc\n",
            " Classroom\t\t\t\t    minutes.gdoc\n",
            "'Colab Notebooks'\t\t\t    rossdata\n",
            "'Copy of Functional Resume Template.gdoc'   Twitter-Data-Analysis-main\n",
            " DesignThinkingFumbaniBanda.gslides\t   'Untitled document.gdoc'\n",
            " dvc-data\t\t\t\t    week1\n",
            " FinalReportFumbaniBanda.gdoc\t\t    week2\n",
            " FinalReportFumbaniBanda.pptx\t\t    week3\n",
            " fprophet\t\t\t\t    WorldJobs.gdoc\n",
            "'FumbaniBanda Resume.pdf'\n"
          ],
          "name": "stdout"
        }
      ]
    },
    {
      "cell_type": "code",
      "metadata": {
        "id": "SxXqP3cZnPu0"
      },
      "source": [
        "import numpy as np\n",
        "import pandas as pd\n",
        "import matplotlib.pyplot as plt\n",
        "from matplotlib.gridspec import GridSpec\n",
        "from matplotlib import ticker\n",
        "from statsmodels.tsa.stattools import adfuller, acf, pacf\n",
        "from sklearn.preprocessing import MinMaxScaler\n",
        "import tensorflow as tf\n",
        "from tensorflow.keras.models import Sequential\n",
        "from tensorflow.keras.layers import Dense\n",
        "from tensorflow.keras.layers import LSTM"
      ],
      "execution_count": null,
      "outputs": []
    },
    {
      "cell_type": "code",
      "metadata": {
        "id": "9DDeLIDFmbdJ"
      },
      "source": [
        "import pandas as pd \n",
        "data = pd.read_csv(\"/content/drive/My Drive/rossdata/train.csv\",index_col='Date',nrows=20000)\n",
        "#Only 20,000 rows have been selected from the dataset because of limited computing power"
      ],
      "execution_count": null,
      "outputs": []
    },
    {
      "cell_type": "markdown",
      "metadata": {
        "id": "NgVAFRXCa6ll"
      },
      "source": [
        "I had to limit the number of rows because checking for stationarity just kept hanging if the number of rows was high"
      ]
    },
    {
      "cell_type": "code",
      "metadata": {
        "colab": {
          "base_uri": "https://localhost:8080/",
          "height": 142
        },
        "id": "MV63kUL8nUWi",
        "outputId": "ecad6f7e-f2cf-4d21-836f-01b05d0cc5df"
      },
      "source": [
        "data.head(2)"
      ],
      "execution_count": null,
      "outputs": [
        {
          "output_type": "execute_result",
          "data": {
            "text/html": [
              "<div>\n",
              "<style scoped>\n",
              "    .dataframe tbody tr th:only-of-type {\n",
              "        vertical-align: middle;\n",
              "    }\n",
              "\n",
              "    .dataframe tbody tr th {\n",
              "        vertical-align: top;\n",
              "    }\n",
              "\n",
              "    .dataframe thead th {\n",
              "        text-align: right;\n",
              "    }\n",
              "</style>\n",
              "<table border=\"1\" class=\"dataframe\">\n",
              "  <thead>\n",
              "    <tr style=\"text-align: right;\">\n",
              "      <th></th>\n",
              "      <th>Store</th>\n",
              "      <th>DayOfWeek</th>\n",
              "      <th>Sales</th>\n",
              "      <th>Customers</th>\n",
              "      <th>Open</th>\n",
              "      <th>Promo</th>\n",
              "      <th>StateHoliday</th>\n",
              "      <th>SchoolHoliday</th>\n",
              "    </tr>\n",
              "    <tr>\n",
              "      <th>Date</th>\n",
              "      <th></th>\n",
              "      <th></th>\n",
              "      <th></th>\n",
              "      <th></th>\n",
              "      <th></th>\n",
              "      <th></th>\n",
              "      <th></th>\n",
              "      <th></th>\n",
              "    </tr>\n",
              "  </thead>\n",
              "  <tbody>\n",
              "    <tr>\n",
              "      <th>2015-07-31</th>\n",
              "      <td>1</td>\n",
              "      <td>5</td>\n",
              "      <td>5263</td>\n",
              "      <td>555</td>\n",
              "      <td>1</td>\n",
              "      <td>1</td>\n",
              "      <td>0</td>\n",
              "      <td>1</td>\n",
              "    </tr>\n",
              "    <tr>\n",
              "      <th>2015-07-31</th>\n",
              "      <td>2</td>\n",
              "      <td>5</td>\n",
              "      <td>6064</td>\n",
              "      <td>625</td>\n",
              "      <td>1</td>\n",
              "      <td>1</td>\n",
              "      <td>0</td>\n",
              "      <td>1</td>\n",
              "    </tr>\n",
              "  </tbody>\n",
              "</table>\n",
              "</div>"
            ],
            "text/plain": [
              "            Store  DayOfWeek  Sales  ...  Promo  StateHoliday  SchoolHoliday\n",
              "Date                                 ...                                    \n",
              "2015-07-31      1          5   5263  ...      1             0              1\n",
              "2015-07-31      2          5   6064  ...      1             0              1\n",
              "\n",
              "[2 rows x 8 columns]"
            ]
          },
          "metadata": {
            "tags": []
          },
          "execution_count": 121
        }
      ]
    },
    {
      "cell_type": "code",
      "metadata": {
        "colab": {
          "base_uri": "https://localhost:8080/"
        },
        "id": "iGRZ9SJ0wIGF",
        "outputId": "0924ce3a-fd4c-4def-f2c1-582a3ab64254"
      },
      "source": [
        "data.shape"
      ],
      "execution_count": null,
      "outputs": [
        {
          "output_type": "execute_result",
          "data": {
            "text/plain": [
              "(20000, 8)"
            ]
          },
          "metadata": {
            "tags": []
          },
          "execution_count": 122
        }
      ]
    },
    {
      "cell_type": "markdown",
      "metadata": {
        "id": "wXKvtgq9PXat"
      },
      "source": [
        "We just need 'Date' and 'Sales' for forecasting, so we drop all other columns."
      ]
    },
    {
      "cell_type": "code",
      "metadata": {
        "id": "aWsI3GVsmvNQ"
      },
      "source": [
        "storeSales = data.copy()\n",
        "storeSales.drop(['Store','DayOfWeek','Customers','Open','Promo','StateHoliday','SchoolHoliday'],axis=1,inplace=True)"
      ],
      "execution_count": null,
      "outputs": []
    },
    {
      "cell_type": "markdown",
      "metadata": {
        "id": "V9qmuR4vCSzI"
      },
      "source": [
        "Scale the Sales data and put the scaled values in a new column."
      ]
    },
    {
      "cell_type": "code",
      "metadata": {
        "colab": {
          "base_uri": "https://localhost:8080/",
          "height": 390
        },
        "id": "-5nF_bBmobrF",
        "outputId": "a0eaeb5a-1fc6-4b87-dbb0-516f02257f55"
      },
      "source": [
        "scaler = MinMaxScaler()\n",
        "scaler.fit(storeSales.Sales.values.reshape([-1, 1]))\n",
        "storeSalesScaled = scaler.transform(storeSales.Sales.values.reshape(-1, 1))\n",
        "storeSales['storeSalesScaled'] = storeSalesScaled\n",
        "storeSales.head(10)"
      ],
      "execution_count": null,
      "outputs": [
        {
          "output_type": "execute_result",
          "data": {
            "text/html": [
              "<div>\n",
              "<style scoped>\n",
              "    .dataframe tbody tr th:only-of-type {\n",
              "        vertical-align: middle;\n",
              "    }\n",
              "\n",
              "    .dataframe tbody tr th {\n",
              "        vertical-align: top;\n",
              "    }\n",
              "\n",
              "    .dataframe thead th {\n",
              "        text-align: right;\n",
              "    }\n",
              "</style>\n",
              "<table border=\"1\" class=\"dataframe\">\n",
              "  <thead>\n",
              "    <tr style=\"text-align: right;\">\n",
              "      <th></th>\n",
              "      <th>Sales</th>\n",
              "      <th>storeSalesScaled</th>\n",
              "    </tr>\n",
              "    <tr>\n",
              "      <th>Date</th>\n",
              "      <th></th>\n",
              "      <th></th>\n",
              "    </tr>\n",
              "  </thead>\n",
              "  <tbody>\n",
              "    <tr>\n",
              "      <th>2015-07-31</th>\n",
              "      <td>5263</td>\n",
              "      <td>0.161705</td>\n",
              "    </tr>\n",
              "    <tr>\n",
              "      <th>2015-07-31</th>\n",
              "      <td>6064</td>\n",
              "      <td>0.186315</td>\n",
              "    </tr>\n",
              "    <tr>\n",
              "      <th>2015-07-31</th>\n",
              "      <td>8314</td>\n",
              "      <td>0.255446</td>\n",
              "    </tr>\n",
              "    <tr>\n",
              "      <th>2015-07-31</th>\n",
              "      <td>13995</td>\n",
              "      <td>0.429994</td>\n",
              "    </tr>\n",
              "    <tr>\n",
              "      <th>2015-07-31</th>\n",
              "      <td>4822</td>\n",
              "      <td>0.148155</td>\n",
              "    </tr>\n",
              "    <tr>\n",
              "      <th>2015-07-31</th>\n",
              "      <td>5651</td>\n",
              "      <td>0.173626</td>\n",
              "    </tr>\n",
              "    <tr>\n",
              "      <th>2015-07-31</th>\n",
              "      <td>15344</td>\n",
              "      <td>0.471441</td>\n",
              "    </tr>\n",
              "    <tr>\n",
              "      <th>2015-07-31</th>\n",
              "      <td>8492</td>\n",
              "      <td>0.260915</td>\n",
              "    </tr>\n",
              "    <tr>\n",
              "      <th>2015-07-31</th>\n",
              "      <td>8565</td>\n",
              "      <td>0.263158</td>\n",
              "    </tr>\n",
              "    <tr>\n",
              "      <th>2015-07-31</th>\n",
              "      <td>7185</td>\n",
              "      <td>0.220758</td>\n",
              "    </tr>\n",
              "  </tbody>\n",
              "</table>\n",
              "</div>"
            ],
            "text/plain": [
              "            Sales  storeSalesScaled\n",
              "Date                               \n",
              "2015-07-31   5263          0.161705\n",
              "2015-07-31   6064          0.186315\n",
              "2015-07-31   8314          0.255446\n",
              "2015-07-31  13995          0.429994\n",
              "2015-07-31   4822          0.148155\n",
              "2015-07-31   5651          0.173626\n",
              "2015-07-31  15344          0.471441\n",
              "2015-07-31   8492          0.260915\n",
              "2015-07-31   8565          0.263158\n",
              "2015-07-31   7185          0.220758"
            ]
          },
          "metadata": {
            "tags": []
          },
          "execution_count": 124
        }
      ]
    },
    {
      "cell_type": "code",
      "metadata": {
        "colab": {
          "base_uri": "https://localhost:8080/",
          "height": 297
        },
        "id": "3YMD3hYarubh",
        "outputId": "3087545d-ccfc-43af-c9f6-ff0671afe650"
      },
      "source": [
        "storeSales.describe()"
      ],
      "execution_count": null,
      "outputs": [
        {
          "output_type": "execute_result",
          "data": {
            "text/html": [
              "<div>\n",
              "<style scoped>\n",
              "    .dataframe tbody tr th:only-of-type {\n",
              "        vertical-align: middle;\n",
              "    }\n",
              "\n",
              "    .dataframe tbody tr th {\n",
              "        vertical-align: top;\n",
              "    }\n",
              "\n",
              "    .dataframe thead th {\n",
              "        text-align: right;\n",
              "    }\n",
              "</style>\n",
              "<table border=\"1\" class=\"dataframe\">\n",
              "  <thead>\n",
              "    <tr style=\"text-align: right;\">\n",
              "      <th></th>\n",
              "      <th>Sales</th>\n",
              "      <th>storeSalesScaled</th>\n",
              "    </tr>\n",
              "  </thead>\n",
              "  <tbody>\n",
              "    <tr>\n",
              "      <th>count</th>\n",
              "      <td>20000.000000</td>\n",
              "      <td>20000.000000</td>\n",
              "    </tr>\n",
              "    <tr>\n",
              "      <th>mean</th>\n",
              "      <td>6359.995900</td>\n",
              "      <td>0.195410</td>\n",
              "    </tr>\n",
              "    <tr>\n",
              "      <th>std</th>\n",
              "      <td>3563.680614</td>\n",
              "      <td>0.109493</td>\n",
              "    </tr>\n",
              "    <tr>\n",
              "      <th>min</th>\n",
              "      <td>0.000000</td>\n",
              "      <td>0.000000</td>\n",
              "    </tr>\n",
              "    <tr>\n",
              "      <th>25%</th>\n",
              "      <td>4542.500000</td>\n",
              "      <td>0.139567</td>\n",
              "    </tr>\n",
              "    <tr>\n",
              "      <th>50%</th>\n",
              "      <td>6271.000000</td>\n",
              "      <td>0.192675</td>\n",
              "    </tr>\n",
              "    <tr>\n",
              "      <th>75%</th>\n",
              "      <td>8237.250000</td>\n",
              "      <td>0.253088</td>\n",
              "    </tr>\n",
              "    <tr>\n",
              "      <th>max</th>\n",
              "      <td>32547.000000</td>\n",
              "      <td>1.000000</td>\n",
              "    </tr>\n",
              "  </tbody>\n",
              "</table>\n",
              "</div>"
            ],
            "text/plain": [
              "              Sales  storeSalesScaled\n",
              "count  20000.000000      20000.000000\n",
              "mean    6359.995900          0.195410\n",
              "std     3563.680614          0.109493\n",
              "min        0.000000          0.000000\n",
              "25%     4542.500000          0.139567\n",
              "50%     6271.000000          0.192675\n",
              "75%     8237.250000          0.253088\n",
              "max    32547.000000          1.000000"
            ]
          },
          "metadata": {
            "tags": []
          },
          "execution_count": 125
        }
      ]
    },
    {
      "cell_type": "code",
      "metadata": {
        "colab": {
          "base_uri": "https://localhost:8080/",
          "height": 1000
        },
        "id": "OHUjkKRFr76x",
        "outputId": "9368df34-2d84-48ab-d234-9e389886e7e8"
      },
      "source": [
        "fig = plt.figure()\n",
        "gs = GridSpec(2, 1, figure=fig)\n",
        "\n",
        "fig.set_figheight(25)\n",
        "fig.set_figwidth(30)\n",
        "fig.tight_layout(pad=15)\n",
        "\n",
        "M = 80\n",
        "xticks = ticker.MaxNLocator(M)\n",
        "\n",
        "ax1 = fig.add_subplot(gs[0,0])\n",
        "ax1.plot(storeSales.index, storeSales.Sales, 'b-')\n",
        "ax1.xaxis.set_major_locator(xticks)\n",
        "ax1.tick_params(labelrotation=90)\n",
        "ax1.set_xlabel('Date')\n",
        "ax1.set_ylabel('Thousands of Units')\n",
        "ax1.title.set_text('Time Series Plot of Store Sales')\n",
        "ax1.grid(True)\n",
        "\n",
        "ax2 = fig.add_subplot(gs[1,0])\n",
        "ax2.plot(storeSales.index, storeSales.storeSalesScaled, 'g-')\n",
        "ax2.xaxis.set_major_locator(xticks)\n",
        "ax2.tick_params(labelrotation=90)\n",
        "ax2.set_xlabel('Date')\n",
        "ax2.set_ylabel('Scaled Units')\n",
        "ax2.title.set_text('Time Series Plot of Min Max Scaled Store Sales')\n",
        "ax2.grid(True)\n",
        "plt.show()"
      ],
      "execution_count": null,
      "outputs": [
        {
          "output_type": "display_data",
          "data": {
            "image/png": "[encoded data removed]",
            "text/plain": [
              "<Figure size 2160x1800 with 2 Axes>"
            ]
          },
          "metadata": {
            "tags": [],
            "needs_background": "light"
          }
        }
      ]
    },
    {
      "cell_type": "code",
      "metadata": {
        "colab": {
          "base_uri": "https://localhost:8080/",
          "height": 438
        },
        "id": "5cgPmw60tKg-",
        "outputId": "97e19a50-6313-4144-82d6-f58bdca07df6"
      },
      "source": [
        "fig = plt.figure()\n",
        "gs = GridSpec(2, 1, figure=fig)\n",
        "\n",
        "fig.set_figheight(10)\n",
        "fig.set_figwidth(30)\n",
        "fig.tight_layout(pad=6)\n",
        "\n",
        "ax1 = fig.add_subplot(gs[0,0])\n",
        "ax1.hist(storeSales.Sales, density=True, bins=60)\n",
        "ax1.title.set_text('Histogram Store Sales')\n",
        "ax1.grid(True)\n",
        "\n",
        "ax2 = fig.add_subplot(gs[1,0])\n",
        "ax2.hist(storeSales.storeSalesScaled, density=True, bins=60)\n",
        "ax2.title.set_text('Histogram of the of Min Max Scaled Store Sales')\n",
        "ax2.grid(True)\n",
        "plt.show()"
      ],
      "execution_count": null,
      "outputs": [
        {
          "output_type": "display_data",
          "data": {
            "image/png": "[encoded data removed]",
            "text/plain": [
              "<Figure size 2160x720 with 2 Axes>"
            ]
          },
          "metadata": {
            "tags": [],
            "needs_background": "light"
          }
        }
      ]
    },
    {
      "cell_type": "code",
      "metadata": {
        "colab": {
          "base_uri": "https://localhost:8080/"
        },
        "id": "oYcflIBKtgyq",
        "outputId": "3f5e1bf6-c35b-4fe3-e010-e0541182dcba"
      },
      "source": [
        "adfResult = adfuller(storeSales.Sales.values, autolag='AIC')\n",
        "print(f'ADF Statistic: {adfResult[0]}')\n",
        "print(f'n_lags: {adfResult[1]}')\n",
        "print(f'p-value: {adfResult[1]}')"
      ],
      "execution_count": null,
      "outputs": [
        {
          "output_type": "stream",
          "text": [
            "ADF Statistic: -3.9298303535057535\n",
            "n_lags: 0.0018259566824130476\n",
            "p-value: 0.0018259566824130476\n"
          ],
          "name": "stdout"
        }
      ]
    },
    {
      "cell_type": "markdown",
      "metadata": {
        "id": "4-N_OryvgBWU"
      },
      "source": [
        "The p-value obtained is less than the significance level of 0.05 and hence we can reject the null hypothesis and take that the data is stationary."
      ]
    },
    {
      "cell_type": "code",
      "metadata": {
        "colab": {
          "base_uri": "https://localhost:8080/"
        },
        "id": "5E-46u_myl0m",
        "outputId": "06c2aba9-8a89-4211-c8d5-a259745cd354"
      },
      "source": [
        "adfResult = adfuller(storeSales.storeSalesScaled.values, autolag='AIC')\n",
        "print(f'ADF Statistic: {adfResult[0]}')\n",
        "print(f'n_lags: {adfResult[1]}')\n",
        "print(f'p-value: {adfResult[1]}')"
      ],
      "execution_count": null,
      "outputs": [
        {
          "output_type": "stream",
          "text": [
            "ADF Statistic: -3.9298303535058188\n",
            "n_lags: 0.001825956682412613\n",
            "p-value: 0.001825956682412613\n"
          ],
          "name": "stdout"
        }
      ]
    },
    {
      "cell_type": "markdown",
      "metadata": {
        "id": "0KKdjTICiD0U"
      },
      "source": [
        "The p-value obtained is less than the significance level of 0.05 and hence we can reject the null hypothesis and take that the data is stationary."
      ]
    },
    {
      "cell_type": "code",
      "metadata": {
        "id": "Wxlm9eCDy61k"
      },
      "source": [
        "# create a differenced series\n",
        "def difference(dataset, interval=1):\n",
        "\tdiff = list()\n",
        "\tfor i in range(interval, len(dataset)):\n",
        "\t\tvalue = dataset[i] - dataset[i - interval]\n",
        "\t\tdiff.append(value)\n",
        "\treturn pd.Series(diff)"
      ],
      "execution_count": null,
      "outputs": []
    },
    {
      "cell_type": "code",
      "metadata": {
        "id": "hGt76J85y_UY"
      },
      "source": [
        "storeSalesDif = difference(storeSales.storeSalesScaled.values)"
      ],
      "execution_count": null,
      "outputs": []
    },
    {
      "cell_type": "code",
      "metadata": {
        "id": "BvItuh7mzWZI"
      },
      "source": [
        "acfSalesScaled = acf(storeSales.storeSalesScaled.values, fft=True, nlags=25)\n",
        "acfSalesScaledNp = np.array(acfSalesScaled)"
      ],
      "execution_count": null,
      "outputs": []
    },
    {
      "cell_type": "code",
      "metadata": {
        "id": "0Y1YwYWpzcsw"
      },
      "source": [
        "def corrPlots(array: np.array, prefix: str):\n",
        "    plt.figure(figsize=(30, 5))\n",
        "    plt.title(f\"{prefix}  Autocorrelations of Store Sales Min Max Scaled\")\n",
        "    plt.bar(range(len(array)), array)\n",
        "    plt.grid(True)\n",
        "    plt.show()"
      ],
      "execution_count": null,
      "outputs": []
    },
    {
      "cell_type": "code",
      "metadata": {
        "colab": {
          "base_uri": "https://localhost:8080/",
          "height": 249
        },
        "id": "jGrWvPLHzwLG",
        "outputId": "1f03b4a7-ed7e-4eb8-a6d0-22a4006b88a5"
      },
      "source": [
        "corrPlots(acfSalesScaledNp, '')"
      ],
      "execution_count": null,
      "outputs": [
        {
          "output_type": "display_data",
          "data": {
            "image/png": "[encoded data removed]",
            "text/plain": [
              "<Figure size 2160x360 with 1 Axes>"
            ]
          },
          "metadata": {
            "tags": [],
            "needs_background": "light"
          }
        }
      ]
    },
    {
      "cell_type": "code",
      "metadata": {
        "id": "26D-xHNX0A0F"
      },
      "source": [
        "pacfSalesScaled = pacf(storeSales.storeSalesScaled.values, nlags=40)\n",
        "pacfSalesScaledNp = np.array(pacfSalesScaled)"
      ],
      "execution_count": null,
      "outputs": []
    },
    {
      "cell_type": "code",
      "metadata": {
        "colab": {
          "base_uri": "https://localhost:8080/",
          "height": 249
        },
        "id": "lXyZd_170KRz",
        "outputId": "39c7e323-9266-4be7-ff34-b29329aee163"
      },
      "source": [
        "corrPlots(pacfSalesScaledNp, \"Partial\")"
      ],
      "execution_count": null,
      "outputs": [
        {
          "output_type": "display_data",
          "data": {
            "image/png": "[encoded data removed]",
            "text/plain": [
              "<Figure size 2160x360 with 1 Axes>"
            ]
          },
          "metadata": {
            "tags": [],
            "needs_background": "light"
          }
        }
      ]
    },
    {
      "cell_type": "code",
      "metadata": {
        "id": "-ijnVjvs0f3a"
      },
      "source": [
        "SIZE = len(storeSales.storeSalesScaled)\n",
        "WINDOW_SIZE = 48\n",
        "BATCH_SIZE= SIZE-WINDOW_SIZE*2\n",
        "EPOCHS = 200"
      ],
      "execution_count": null,
      "outputs": []
    },
    {
      "cell_type": "code",
      "metadata": {
        "colab": {
          "base_uri": "https://localhost:8080/"
        },
        "id": "pGFKN2AL0j5J",
        "outputId": "2098cd42-e384-41a0-9789-16c3b8a90736"
      },
      "source": [
        "DateTrain = storeSales.index.values[0:BATCH_SIZE]\n",
        "DateValid = storeSales.index.values[BATCH_SIZE:]\n",
        "XTrain = storeSales.storeSalesScaled.values[0:BATCH_SIZE].astype('float32')\n",
        "XValid = storeSales.storeSalesScaled.values[BATCH_SIZE:].astype('float32')\n",
        "\n",
        "# Obtain shapes for vectors of size (,1) for dates series\n",
        "\n",
        "DateTrain = np.reshape(DateTrain, (-1, 1))\n",
        "DateValid = np.reshape(DateValid, (-1, 1))\n",
        "\n",
        "print(\"Shape of the training set date series: \", DateTrain.shape)\n",
        "print(\"Shape of the validation set date series: \", DateValid.shape)\n",
        "print()\n",
        "print(\"Shape of the training set logarithm of sales series: \", XTrain.shape)\n",
        "print(\"Shape of the validation set logarithm of sales series in a stateless LSTM: \", XValid.shape)"
      ],
      "execution_count": null,
      "outputs": [
        {
          "output_type": "stream",
          "text": [
            "Shape of the training set date series:  (19904, 1)\n",
            "Shape of the validation set date series:  (96, 1)\n",
            "\n",
            "Shape of the training set logarithm of sales series:  (19904,)\n",
            "Shape of the validation set logarithm of sales series in a stateless LSTM:  (96,)\n"
          ],
          "name": "stdout"
        }
      ]
    },
    {
      "cell_type": "code",
      "metadata": {
        "colab": {
          "base_uri": "https://localhost:8080/"
        },
        "id": "Ln_su4hv063J",
        "outputId": "dd370c53-a6f4-4b15-b070-fdc6b0e2280f"
      },
      "source": [
        "tf.random.set_seed(1234)\n",
        "# add extra dimension\n",
        "series = tf.expand_dims(XTrain, axis=-1)\n",
        "series.shape"
      ],
      "execution_count": null,
      "outputs": [
        {
          "output_type": "execute_result",
          "data": {
            "text/plain": [
              "TensorShape([19904, 1])"
            ]
          },
          "metadata": {
            "tags": []
          },
          "execution_count": 139
        }
      ]
    },
    {
      "cell_type": "code",
      "metadata": {
        "colab": {
          "base_uri": "https://localhost:8080/"
        },
        "id": "yGhbWgVL0_QW",
        "outputId": "17f29b18-617b-4368-e266-e4f65d180479"
      },
      "source": [
        "# create tensor from each individual element\n",
        "dataset = tf.data.Dataset.from_tensor_slices(series)\n",
        "dataset"
      ],
      "execution_count": null,
      "outputs": [
        {
          "output_type": "execute_result",
          "data": {
            "text/plain": [
              "<TensorSliceDataset shapes: (1,), types: tf.float32>"
            ]
          },
          "metadata": {
            "tags": []
          },
          "execution_count": 140
        }
      ]
    },
    {
      "cell_type": "code",
      "metadata": {
        "id": "vkCzVnRl1AOq"
      },
      "source": [
        "# takes a window_size + 1 chunk from the slices\n",
        "dataset = dataset.window(WINDOW_SIZE + 1, shift=1, drop_remainder=True) "
      ],
      "execution_count": null,
      "outputs": []
    },
    {
      "cell_type": "code",
      "metadata": {
        "colab": {
          "base_uri": "https://localhost:8080/"
        },
        "id": "aiBt8ex_1IV5",
        "outputId": "1af7e310-5aef-4201-dbb7-5d275e4e7f84"
      },
      "source": [
        "# Example of Window\n",
        "datasetEx = tf.data.Dataset.from_tensor_slices(tf.range(10))\n",
        "datasetEx = datasetEx.window(5, shift=1, drop_remainder=True)\n",
        "for window in datasetEx:\n",
        "    print([elem.numpy() for elem in window])"
      ],
      "execution_count": null,
      "outputs": [
        {
          "output_type": "stream",
          "text": [
            "[0, 1, 2, 3, 4]\n",
            "[1, 2, 3, 4, 5]\n",
            "[2, 3, 4, 5, 6]\n",
            "[3, 4, 5, 6, 7]\n",
            "[4, 5, 6, 7, 8]\n",
            "[5, 6, 7, 8, 9]\n"
          ],
          "name": "stdout"
        }
      ]
    },
    {
      "cell_type": "code",
      "metadata": {
        "id": "TP9nFwzd1NNh"
      },
      "source": [
        "dataset = dataset.flat_map(lambda window: window.batch(WINDOW_SIZE + 1))"
      ],
      "execution_count": null,
      "outputs": []
    },
    {
      "cell_type": "code",
      "metadata": {
        "id": "Trjp-YxD1ZcP"
      },
      "source": [
        "dataset = dataset.map(lambda window: (window[:-1], window[-1:]))"
      ],
      "execution_count": null,
      "outputs": []
    },
    {
      "cell_type": "code",
      "metadata": {
        "id": "dcm425aI1cWH"
      },
      "source": [
        "dataset = dataset.batch(BATCH_SIZE).prefetch(1)"
      ],
      "execution_count": null,
      "outputs": []
    },
    {
      "cell_type": "code",
      "metadata": {
        "id": "tfJFBTwC1gH5"
      },
      "source": [
        "def windowed_dataset(series, window_size=WINDOW_SIZE, batch_size=BATCH_SIZE): \n",
        "  series = tf.expand_dims(series, axis=-1)\n",
        "  dataset = tf.data.Dataset.from_tensor_slices(series)\n",
        "  dataset = dataset.window(window_size + 1, shift=1, drop_remainder=True) \n",
        "  dataset = dataset.flat_map(lambda window: window.batch(window_size + 1))\n",
        "  dataset = dataset.map(lambda window: (window[:-1], window[-1:]))\n",
        "  dataset = dataset.batch(batch_size).prefetch(1)\n",
        "  return dataset"
      ],
      "execution_count": null,
      "outputs": []
    },
    {
      "cell_type": "code",
      "metadata": {
        "id": "ZLOA2u551juJ"
      },
      "source": [
        "DatasetTrain = windowed_dataset(XTrain)\n",
        "DatasetVal = windowed_dataset(XValid)"
      ],
      "execution_count": null,
      "outputs": []
    },
    {
      "cell_type": "code",
      "metadata": {
        "id": "J9nJWSFi18nQ"
      },
      "source": [
        "model = Sequential()\n",
        "model.add(LSTM(8, input_shape=[None, 1], return_sequences=True))\n",
        "model.add(LSTM(4, input_shape=[None, 1]))\n",
        "model.add(Dense(1))\n",
        "model.compile(loss=\"huber_loss\", optimizer='adam')"
      ],
      "execution_count": null,
      "outputs": []
    },
    {
      "cell_type": "code",
      "metadata": {
        "colab": {
          "base_uri": "https://localhost:8080/"
        },
        "id": "k1NJQW6D2BUO",
        "outputId": "4942976c-8d92-4910-e99c-fade95b4d662"
      },
      "source": [
        "model.summary()"
      ],
      "execution_count": null,
      "outputs": [
        {
          "output_type": "stream",
          "text": [
            "Model: \"sequential_2\"\n",
            "_________________________________________________________________\n",
            "Layer (type)                 Output Shape              Param #   \n",
            "=================================================================\n",
            "lstm_4 (LSTM)                (None, None, 8)           320       \n",
            "_________________________________________________________________\n",
            "lstm_5 (LSTM)                (None, 4)                 208       \n",
            "_________________________________________________________________\n",
            "dense_2 (Dense)              (None, 1)                 5         \n",
            "=================================================================\n",
            "Total params: 533\n",
            "Trainable params: 533\n",
            "Non-trainable params: 0\n",
            "_________________________________________________________________\n"
          ],
          "name": "stdout"
        }
      ]
    },
    {
      "cell_type": "code",
      "metadata": {
        "colab": {
          "base_uri": "https://localhost:8080/"
        },
        "id": "zE89TXQG2GtW",
        "outputId": "c02fda17-508c-4c40-ab3c-f3e81ab4b3cd"
      },
      "source": [
        "history = model.fit(DatasetTrain, epochs=EPOCHS, validation_data=DatasetVal, verbose=1)"
      ],
      "execution_count": null,
      "outputs": [
        {
          "output_type": "stream",
          "text": [
            "Epoch 1/200\n",
            "1/1 [==============================] - 8s 8s/step - loss: 0.0403 - val_loss: 0.0594\n",
            "Epoch 2/200\n",
            "1/1 [==============================] - 4s 4s/step - loss: 0.0383 - val_loss: 0.0567\n",
            "Epoch 3/200\n",
            "1/1 [==============================] - 4s 4s/step - loss: 0.0363 - val_loss: 0.0540\n",
            "Epoch 4/200\n",
            "1/1 [==============================] - 4s 4s/step - loss: 0.0344 - val_loss: 0.0514\n",
            "Epoch 5/200\n",
            "1/1 [==============================] - 4s 4s/step - loss: 0.0327 - val_loss: 0.0489\n",
            "Epoch 6/200\n",
            "1/1 [==============================] - 4s 4s/step - loss: 0.0309 - val_loss: 0.0466\n",
            "Epoch 7/200\n",
            "1/1 [==============================] - 4s 4s/step - loss: 0.0293 - val_loss: 0.0443\n",
            "Epoch 8/200\n",
            "1/1 [==============================] - 4s 4s/step - loss: 0.0277 - val_loss: 0.0421\n",
            "Epoch 9/200\n",
            "1/1 [==============================] - 4s 4s/step - loss: 0.0262 - val_loss: 0.0399\n",
            "Epoch 10/200\n",
            "1/1 [==============================] - 3s 3s/step - loss: 0.0248 - val_loss: 0.0379\n",
            "Epoch 11/200\n",
            "1/1 [==============================] - 3s 3s/step - loss: 0.0234 - val_loss: 0.0359\n",
            "Epoch 12/200\n",
            "1/1 [==============================] - 3s 3s/step - loss: 0.0221 - val_loss: 0.0340\n",
            "Epoch 13/200\n",
            "1/1 [==============================] - 3s 3s/step - loss: 0.0209 - val_loss: 0.0321\n",
            "Epoch 14/200\n",
            "1/1 [==============================] - 3s 3s/step - loss: 0.0197 - val_loss: 0.0304\n",
            "Epoch 15/200\n",
            "1/1 [==============================] - 3s 3s/step - loss: 0.0185 - val_loss: 0.0286\n",
            "Epoch 16/200\n",
            "1/1 [==============================] - 3s 3s/step - loss: 0.0174 - val_loss: 0.0270\n",
            "Epoch 17/200\n",
            "1/1 [==============================] - 3s 3s/step - loss: 0.0164 - val_loss: 0.0254\n",
            "Epoch 18/200\n",
            "1/1 [==============================] - 3s 3s/step - loss: 0.0154 - val_loss: 0.0238\n",
            "Epoch 19/200\n",
            "1/1 [==============================] - 3s 3s/step - loss: 0.0144 - val_loss: 0.0223\n",
            "Epoch 20/200\n",
            "1/1 [==============================] - 4s 4s/step - loss: 0.0135 - val_loss: 0.0209\n",
            "Epoch 21/200\n",
            "1/1 [==============================] - 4s 4s/step - loss: 0.0126 - val_loss: 0.0195\n",
            "Epoch 22/200\n",
            "1/1 [==============================] - 4s 4s/step - loss: 0.0118 - val_loss: 0.0181\n",
            "Epoch 23/200\n",
            "1/1 [==============================] - 3s 3s/step - loss: 0.0111 - val_loss: 0.0169\n",
            "Epoch 24/200\n",
            "1/1 [==============================] - 3s 3s/step - loss: 0.0104 - val_loss: 0.0157\n",
            "Epoch 25/200\n",
            "1/1 [==============================] - 3s 3s/step - loss: 0.0097 - val_loss: 0.0145\n",
            "Epoch 26/200\n",
            "1/1 [==============================] - 3s 3s/step - loss: 0.0091 - val_loss: 0.0134\n",
            "Epoch 27/200\n",
            "1/1 [==============================] - 3s 3s/step - loss: 0.0086 - val_loss: 0.0123\n",
            "Epoch 28/200\n",
            "1/1 [==============================] - 3s 3s/step - loss: 0.0081 - val_loss: 0.0114\n",
            "Epoch 29/200\n",
            "1/1 [==============================] - 3s 3s/step - loss: 0.0076 - val_loss: 0.0104\n",
            "Epoch 30/200\n",
            "1/1 [==============================] - 3s 3s/step - loss: 0.0072 - val_loss: 0.0096\n",
            "Epoch 31/200\n",
            "1/1 [==============================] - 3s 3s/step - loss: 0.0069 - val_loss: 0.0088\n",
            "Epoch 32/200\n",
            "1/1 [==============================] - 3s 3s/step - loss: 0.0066 - val_loss: 0.0081\n",
            "Epoch 33/200\n",
            "1/1 [==============================] - 4s 4s/step - loss: 0.0064 - val_loss: 0.0074\n",
            "Epoch 34/200\n",
            "1/1 [==============================] - 3s 3s/step - loss: 0.0062 - val_loss: 0.0069\n",
            "Epoch 35/200\n",
            "1/1 [==============================] - 3s 3s/step - loss: 0.0061 - val_loss: 0.0064\n",
            "Epoch 36/200\n",
            "1/1 [==============================] - 3s 3s/step - loss: 0.0060 - val_loss: 0.0059\n",
            "Epoch 37/200\n",
            "1/1 [==============================] - 3s 3s/step - loss: 0.0060 - val_loss: 0.0056\n",
            "Epoch 38/200\n",
            "1/1 [==============================] - 3s 3s/step - loss: 0.0059 - val_loss: 0.0052\n",
            "Epoch 39/200\n",
            "1/1 [==============================] - 3s 3s/step - loss: 0.0060 - val_loss: 0.0050\n",
            "Epoch 40/200\n",
            "1/1 [==============================] - 4s 4s/step - loss: 0.0060 - val_loss: 0.0048\n",
            "Epoch 41/200\n",
            "1/1 [==============================] - 3s 3s/step - loss: 0.0060 - val_loss: 0.0046\n",
            "Epoch 42/200\n",
            "1/1 [==============================] - 4s 4s/step - loss: 0.0061 - val_loss: 0.0045\n",
            "Epoch 43/200\n",
            "1/1 [==============================] - 3s 3s/step - loss: 0.0061 - val_loss: 0.0045\n",
            "Epoch 44/200\n",
            "1/1 [==============================] - 3s 3s/step - loss: 0.0061 - val_loss: 0.0044\n",
            "Epoch 45/200\n",
            "1/1 [==============================] - 3s 3s/step - loss: 0.0061 - val_loss: 0.0044\n",
            "Epoch 46/200\n",
            "1/1 [==============================] - 3s 3s/step - loss: 0.0061 - val_loss: 0.0044\n",
            "Epoch 47/200\n",
            "1/1 [==============================] - 3s 3s/step - loss: 0.0061 - val_loss: 0.0044\n",
            "Epoch 48/200\n",
            "1/1 [==============================] - 4s 4s/step - loss: 0.0061 - val_loss: 0.0044\n",
            "Epoch 49/200\n",
            "1/1 [==============================] - 3s 3s/step - loss: 0.0060 - val_loss: 0.0045\n",
            "Epoch 50/200\n",
            "1/1 [==============================] - 3s 3s/step - loss: 0.0060 - val_loss: 0.0046\n",
            "Epoch 51/200\n",
            "1/1 [==============================] - 3s 3s/step - loss: 0.0059 - val_loss: 0.0046\n",
            "Epoch 52/200\n",
            "1/1 [==============================] - 3s 3s/step - loss: 0.0058 - val_loss: 0.0047\n",
            "Epoch 53/200\n",
            "1/1 [==============================] - 3s 3s/step - loss: 0.0058 - val_loss: 0.0048\n",
            "Epoch 54/200\n",
            "1/1 [==============================] - 3s 3s/step - loss: 0.0057 - val_loss: 0.0049\n",
            "Epoch 55/200\n",
            "1/1 [==============================] - 3s 3s/step - loss: 0.0057 - val_loss: 0.0050\n",
            "Epoch 56/200\n",
            "1/1 [==============================] - 3s 3s/step - loss: 0.0056 - val_loss: 0.0051\n",
            "Epoch 57/200\n",
            "1/1 [==============================] - 3s 3s/step - loss: 0.0056 - val_loss: 0.0052\n",
            "Epoch 58/200\n",
            "1/1 [==============================] - 3s 3s/step - loss: 0.0056 - val_loss: 0.0053\n",
            "Epoch 59/200\n",
            "1/1 [==============================] - 3s 3s/step - loss: 0.0055 - val_loss: 0.0054\n",
            "Epoch 60/200\n",
            "1/1 [==============================] - 3s 3s/step - loss: 0.0055 - val_loss: 0.0055\n",
            "Epoch 61/200\n",
            "1/1 [==============================] - 3s 3s/step - loss: 0.0055 - val_loss: 0.0056\n",
            "Epoch 62/200\n",
            "1/1 [==============================] - 3s 3s/step - loss: 0.0055 - val_loss: 0.0056\n",
            "Epoch 63/200\n",
            "1/1 [==============================] - 3s 3s/step - loss: 0.0055 - val_loss: 0.0057\n",
            "Epoch 64/200\n",
            "1/1 [==============================] - 4s 4s/step - loss: 0.0055 - val_loss: 0.0057\n",
            "Epoch 65/200\n",
            "1/1 [==============================] - 3s 3s/step - loss: 0.0054 - val_loss: 0.0058\n",
            "Epoch 66/200\n",
            "1/1 [==============================] - 3s 3s/step - loss: 0.0054 - val_loss: 0.0058\n",
            "Epoch 67/200\n",
            "1/1 [==============================] - 3s 3s/step - loss: 0.0054 - val_loss: 0.0058\n",
            "Epoch 68/200\n",
            "1/1 [==============================] - 4s 4s/step - loss: 0.0054 - val_loss: 0.0058\n",
            "Epoch 69/200\n",
            "1/1 [==============================] - 4s 4s/step - loss: 0.0054 - val_loss: 0.0058\n",
            "Epoch 70/200\n",
            "1/1 [==============================] - 4s 4s/step - loss: 0.0054 - val_loss: 0.0058\n",
            "Epoch 71/200\n",
            "1/1 [==============================] - 4s 4s/step - loss: 0.0053 - val_loss: 0.0057\n",
            "Epoch 72/200\n",
            "1/1 [==============================] - 4s 4s/step - loss: 0.0053 - val_loss: 0.0057\n",
            "Epoch 73/200\n",
            "1/1 [==============================] - 3s 3s/step - loss: 0.0053 - val_loss: 0.0057\n",
            "Epoch 74/200\n",
            "1/1 [==============================] - 3s 3s/step - loss: 0.0053 - val_loss: 0.0056\n",
            "Epoch 75/200\n",
            "1/1 [==============================] - 4s 4s/step - loss: 0.0053 - val_loss: 0.0056\n",
            "Epoch 76/200\n",
            "1/1 [==============================] - 4s 4s/step - loss: 0.0052 - val_loss: 0.0055\n",
            "Epoch 77/200\n",
            "1/1 [==============================] - 4s 4s/step - loss: 0.0052 - val_loss: 0.0054\n",
            "Epoch 78/200\n",
            "1/1 [==============================] - 4s 4s/step - loss: 0.0052 - val_loss: 0.0054\n",
            "Epoch 79/200\n",
            "1/1 [==============================] - 4s 4s/step - loss: 0.0052 - val_loss: 0.0053\n",
            "Epoch 80/200\n",
            "1/1 [==============================] - 4s 4s/step - loss: 0.0051 - val_loss: 0.0053\n",
            "Epoch 81/200\n",
            "1/1 [==============================] - 4s 4s/step - loss: 0.0051 - val_loss: 0.0052\n",
            "Epoch 82/200\n",
            "1/1 [==============================] - 4s 4s/step - loss: 0.0051 - val_loss: 0.0052\n",
            "Epoch 83/200\n",
            "1/1 [==============================] - 4s 4s/step - loss: 0.0051 - val_loss: 0.0051\n",
            "Epoch 84/200\n",
            "1/1 [==============================] - 4s 4s/step - loss: 0.0050 - val_loss: 0.0051\n",
            "Epoch 85/200\n",
            "1/1 [==============================] - 4s 4s/step - loss: 0.0050 - val_loss: 0.0050\n",
            "Epoch 86/200\n",
            "1/1 [==============================] - 4s 4s/step - loss: 0.0050 - val_loss: 0.0050\n",
            "Epoch 87/200\n",
            "1/1 [==============================] - 4s 4s/step - loss: 0.0050 - val_loss: 0.0049\n",
            "Epoch 88/200\n",
            "1/1 [==============================] - 4s 4s/step - loss: 0.0050 - val_loss: 0.0049\n",
            "Epoch 89/200\n",
            "1/1 [==============================] - 3s 3s/step - loss: 0.0049 - val_loss: 0.0049\n",
            "Epoch 90/200\n",
            "1/1 [==============================] - 3s 3s/step - loss: 0.0049 - val_loss: 0.0048\n",
            "Epoch 91/200\n",
            "1/1 [==============================] - 4s 4s/step - loss: 0.0049 - val_loss: 0.0048\n",
            "Epoch 92/200\n",
            "1/1 [==============================] - 4s 4s/step - loss: 0.0049 - val_loss: 0.0048\n",
            "Epoch 93/200\n",
            "1/1 [==============================] - 4s 4s/step - loss: 0.0048 - val_loss: 0.0048\n",
            "Epoch 94/200\n",
            "1/1 [==============================] - 4s 4s/step - loss: 0.0048 - val_loss: 0.0048\n",
            "Epoch 95/200\n",
            "1/1 [==============================] - 4s 4s/step - loss: 0.0048 - val_loss: 0.0048\n",
            "Epoch 96/200\n",
            "1/1 [==============================] - 4s 4s/step - loss: 0.0048 - val_loss: 0.0048\n",
            "Epoch 97/200\n",
            "1/1 [==============================] - 4s 4s/step - loss: 0.0047 - val_loss: 0.0048\n",
            "Epoch 98/200\n",
            "1/1 [==============================] - 4s 4s/step - loss: 0.0047 - val_loss: 0.0047\n",
            "Epoch 99/200\n",
            "1/1 [==============================] - 4s 4s/step - loss: 0.0047 - val_loss: 0.0047\n",
            "Epoch 100/200\n",
            "1/1 [==============================] - 4s 4s/step - loss: 0.0047 - val_loss: 0.0047\n",
            "Epoch 101/200\n",
            "1/1 [==============================] - 4s 4s/step - loss: 0.0046 - val_loss: 0.0047\n",
            "Epoch 102/200\n",
            "1/1 [==============================] - 4s 4s/step - loss: 0.0046 - val_loss: 0.0047\n",
            "Epoch 103/200\n",
            "1/1 [==============================] - 4s 4s/step - loss: 0.0046 - val_loss: 0.0047\n",
            "Epoch 104/200\n",
            "1/1 [==============================] - 4s 4s/step - loss: 0.0046 - val_loss: 0.0047\n",
            "Epoch 105/200\n",
            "1/1 [==============================] - 4s 4s/step - loss: 0.0045 - val_loss: 0.0047\n",
            "Epoch 106/200\n",
            "1/1 [==============================] - 4s 4s/step - loss: 0.0045 - val_loss: 0.0047\n",
            "Epoch 107/200\n",
            "1/1 [==============================] - 4s 4s/step - loss: 0.0045 - val_loss: 0.0047\n",
            "Epoch 108/200\n",
            "1/1 [==============================] - 4s 4s/step - loss: 0.0045 - val_loss: 0.0047\n",
            "Epoch 109/200\n",
            "1/1 [==============================] - 4s 4s/step - loss: 0.0044 - val_loss: 0.0047\n",
            "Epoch 110/200\n",
            "1/1 [==============================] - 4s 4s/step - loss: 0.0044 - val_loss: 0.0046\n",
            "Epoch 111/200\n",
            "1/1 [==============================] - 4s 4s/step - loss: 0.0044 - val_loss: 0.0046\n",
            "Epoch 112/200\n",
            "1/1 [==============================] - 4s 4s/step - loss: 0.0044 - val_loss: 0.0046\n",
            "Epoch 113/200\n",
            "1/1 [==============================] - 4s 4s/step - loss: 0.0043 - val_loss: 0.0046\n",
            "Epoch 114/200\n",
            "1/1 [==============================] - 4s 4s/step - loss: 0.0043 - val_loss: 0.0045\n",
            "Epoch 115/200\n",
            "1/1 [==============================] - 4s 4s/step - loss: 0.0043 - val_loss: 0.0045\n",
            "Epoch 116/200\n",
            "1/1 [==============================] - 4s 4s/step - loss: 0.0043 - val_loss: 0.0045\n",
            "Epoch 117/200\n",
            "1/1 [==============================] - 4s 4s/step - loss: 0.0042 - val_loss: 0.0045\n",
            "Epoch 118/200\n",
            "1/1 [==============================] - 3s 3s/step - loss: 0.0042 - val_loss: 0.0045\n",
            "Epoch 119/200\n",
            "1/1 [==============================] - 4s 4s/step - loss: 0.0042 - val_loss: 0.0044\n",
            "Epoch 120/200\n",
            "1/1 [==============================] - 4s 4s/step - loss: 0.0042 - val_loss: 0.0044\n",
            "Epoch 121/200\n",
            "1/1 [==============================] - 4s 4s/step - loss: 0.0041 - val_loss: 0.0044\n",
            "Epoch 122/200\n",
            "1/1 [==============================] - 4s 4s/step - loss: 0.0041 - val_loss: 0.0044\n",
            "Epoch 123/200\n",
            "1/1 [==============================] - 4s 4s/step - loss: 0.0041 - val_loss: 0.0043\n",
            "Epoch 124/200\n",
            "1/1 [==============================] - 4s 4s/step - loss: 0.0040 - val_loss: 0.0043\n",
            "Epoch 125/200\n",
            "1/1 [==============================] - 4s 4s/step - loss: 0.0040 - val_loss: 0.0043\n",
            "Epoch 126/200\n",
            "1/1 [==============================] - 3s 3s/step - loss: 0.0040 - val_loss: 0.0043\n",
            "Epoch 127/200\n",
            "1/1 [==============================] - 4s 4s/step - loss: 0.0040 - val_loss: 0.0043\n",
            "Epoch 128/200\n",
            "1/1 [==============================] - 3s 3s/step - loss: 0.0039 - val_loss: 0.0043\n",
            "Epoch 129/200\n",
            "1/1 [==============================] - 4s 4s/step - loss: 0.0039 - val_loss: 0.0042\n",
            "Epoch 130/200\n",
            "1/1 [==============================] - 4s 4s/step - loss: 0.0039 - val_loss: 0.0042\n",
            "Epoch 131/200\n",
            "1/1 [==============================] - 4s 4s/step - loss: 0.0039 - val_loss: 0.0042\n",
            "Epoch 132/200\n",
            "1/1 [==============================] - 4s 4s/step - loss: 0.0038 - val_loss: 0.0042\n",
            "Epoch 133/200\n",
            "1/1 [==============================] - 4s 4s/step - loss: 0.0038 - val_loss: 0.0042\n",
            "Epoch 134/200\n",
            "1/1 [==============================] - 4s 4s/step - loss: 0.0038 - val_loss: 0.0042\n",
            "Epoch 135/200\n",
            "1/1 [==============================] - 4s 4s/step - loss: 0.0038 - val_loss: 0.0042\n",
            "Epoch 136/200\n",
            "1/1 [==============================] - 3s 3s/step - loss: 0.0037 - val_loss: 0.0041\n",
            "Epoch 137/200\n",
            "1/1 [==============================] - 3s 3s/step - loss: 0.0037 - val_loss: 0.0041\n",
            "Epoch 138/200\n",
            "1/1 [==============================] - 3s 3s/step - loss: 0.0037 - val_loss: 0.0041\n",
            "Epoch 139/200\n",
            "1/1 [==============================] - 3s 3s/step - loss: 0.0037 - val_loss: 0.0041\n",
            "Epoch 140/200\n",
            "1/1 [==============================] - 3s 3s/step - loss: 0.0036 - val_loss: 0.0041\n",
            "Epoch 141/200\n",
            "1/1 [==============================] - 3s 3s/step - loss: 0.0036 - val_loss: 0.0041\n",
            "Epoch 142/200\n",
            "1/1 [==============================] - 3s 3s/step - loss: 0.0036 - val_loss: 0.0041\n",
            "Epoch 143/200\n",
            "1/1 [==============================] - 3s 3s/step - loss: 0.0036 - val_loss: 0.0041\n",
            "Epoch 144/200\n",
            "1/1 [==============================] - 3s 3s/step - loss: 0.0035 - val_loss: 0.0040\n",
            "Epoch 145/200\n",
            "1/1 [==============================] - 3s 3s/step - loss: 0.0035 - val_loss: 0.0040\n",
            "Epoch 146/200\n",
            "1/1 [==============================] - 3s 3s/step - loss: 0.0035 - val_loss: 0.0040\n",
            "Epoch 147/200\n",
            "1/1 [==============================] - 4s 4s/step - loss: 0.0035 - val_loss: 0.0040\n",
            "Epoch 148/200\n",
            "1/1 [==============================] - 4s 4s/step - loss: 0.0035 - val_loss: 0.0040\n",
            "Epoch 149/200\n",
            "1/1 [==============================] - 4s 4s/step - loss: 0.0034 - val_loss: 0.0040\n",
            "Epoch 150/200\n",
            "1/1 [==============================] - 4s 4s/step - loss: 0.0034 - val_loss: 0.0040\n",
            "Epoch 151/200\n",
            "1/1 [==============================] - 4s 4s/step - loss: 0.0034 - val_loss: 0.0040\n",
            "Epoch 152/200\n",
            "1/1 [==============================] - 3s 3s/step - loss: 0.0034 - val_loss: 0.0040\n",
            "Epoch 153/200\n",
            "1/1 [==============================] - 3s 3s/step - loss: 0.0034 - val_loss: 0.0040\n",
            "Epoch 154/200\n",
            "1/1 [==============================] - 3s 3s/step - loss: 0.0034 - val_loss: 0.0040\n",
            "Epoch 155/200\n",
            "1/1 [==============================] - 4s 4s/step - loss: 0.0034 - val_loss: 0.0040\n",
            "Epoch 156/200\n",
            "1/1 [==============================] - 4s 4s/step - loss: 0.0033 - val_loss: 0.0040\n",
            "Epoch 157/200\n",
            "1/1 [==============================] - 4s 4s/step - loss: 0.0033 - val_loss: 0.0040\n",
            "Epoch 158/200\n",
            "1/1 [==============================] - 4s 4s/step - loss: 0.0033 - val_loss: 0.0039\n",
            "Epoch 159/200\n",
            "1/1 [==============================] - 4s 4s/step - loss: 0.0033 - val_loss: 0.0039\n",
            "Epoch 160/200\n",
            "1/1 [==============================] - 3s 3s/step - loss: 0.0033 - val_loss: 0.0039\n",
            "Epoch 161/200\n",
            "1/1 [==============================] - 3s 3s/step - loss: 0.0033 - val_loss: 0.0039\n",
            "Epoch 162/200\n",
            "1/1 [==============================] - 4s 4s/step - loss: 0.0033 - val_loss: 0.0039\n",
            "Epoch 163/200\n",
            "1/1 [==============================] - 3s 3s/step - loss: 0.0033 - val_loss: 0.0039\n",
            "Epoch 164/200\n",
            "1/1 [==============================] - 3s 3s/step - loss: 0.0033 - val_loss: 0.0039\n",
            "Epoch 165/200\n",
            "1/1 [==============================] - 4s 4s/step - loss: 0.0033 - val_loss: 0.0039\n",
            "Epoch 166/200\n",
            "1/1 [==============================] - 4s 4s/step - loss: 0.0033 - val_loss: 0.0039\n",
            "Epoch 167/200\n",
            "1/1 [==============================] - 4s 4s/step - loss: 0.0033 - val_loss: 0.0039\n",
            "Epoch 168/200\n",
            "1/1 [==============================] - 4s 4s/step - loss: 0.0033 - val_loss: 0.0039\n",
            "Epoch 169/200\n",
            "1/1 [==============================] - 3s 3s/step - loss: 0.0033 - val_loss: 0.0039\n",
            "Epoch 170/200\n",
            "1/1 [==============================] - 4s 4s/step - loss: 0.0033 - val_loss: 0.0039\n",
            "Epoch 171/200\n",
            "1/1 [==============================] - 4s 4s/step - loss: 0.0033 - val_loss: 0.0039\n",
            "Epoch 172/200\n",
            "1/1 [==============================] - 3s 3s/step - loss: 0.0033 - val_loss: 0.0039\n",
            "Epoch 173/200\n",
            "1/1 [==============================] - 3s 3s/step - loss: 0.0033 - val_loss: 0.0039\n",
            "Epoch 174/200\n",
            "1/1 [==============================] - 3s 3s/step - loss: 0.0033 - val_loss: 0.0039\n",
            "Epoch 175/200\n",
            "1/1 [==============================] - 3s 3s/step - loss: 0.0033 - val_loss: 0.0039\n",
            "Epoch 176/200\n",
            "1/1 [==============================] - 3s 3s/step - loss: 0.0033 - val_loss: 0.0039\n",
            "Epoch 177/200\n",
            "1/1 [==============================] - 3s 3s/step - loss: 0.0033 - val_loss: 0.0039\n",
            "Epoch 178/200\n",
            "1/1 [==============================] - 3s 3s/step - loss: 0.0033 - val_loss: 0.0039\n",
            "Epoch 179/200\n",
            "1/1 [==============================] - 3s 3s/step - loss: 0.0033 - val_loss: 0.0039\n",
            "Epoch 180/200\n",
            "1/1 [==============================] - 3s 3s/step - loss: 0.0033 - val_loss: 0.0039\n",
            "Epoch 181/200\n",
            "1/1 [==============================] - 3s 3s/step - loss: 0.0033 - val_loss: 0.0039\n",
            "Epoch 182/200\n",
            "1/1 [==============================] - 3s 3s/step - loss: 0.0033 - val_loss: 0.0039\n",
            "Epoch 183/200\n",
            "1/1 [==============================] - 4s 4s/step - loss: 0.0033 - val_loss: 0.0039\n",
            "Epoch 184/200\n",
            "1/1 [==============================] - 3s 3s/step - loss: 0.0033 - val_loss: 0.0039\n",
            "Epoch 185/200\n",
            "1/1 [==============================] - 3s 3s/step - loss: 0.0033 - val_loss: 0.0039\n",
            "Epoch 186/200\n",
            "1/1 [==============================] - 3s 3s/step - loss: 0.0033 - val_loss: 0.0039\n",
            "Epoch 187/200\n",
            "1/1 [==============================] - 3s 3s/step - loss: 0.0033 - val_loss: 0.0039\n",
            "Epoch 188/200\n",
            "1/1 [==============================] - 3s 3s/step - loss: 0.0032 - val_loss: 0.0039\n",
            "Epoch 189/200\n",
            "1/1 [==============================] - 3s 3s/step - loss: 0.0032 - val_loss: 0.0039\n",
            "Epoch 190/200\n",
            "1/1 [==============================] - 4s 4s/step - loss: 0.0032 - val_loss: 0.0039\n",
            "Epoch 191/200\n",
            "1/1 [==============================] - 3s 3s/step - loss: 0.0032 - val_loss: 0.0039\n",
            "Epoch 192/200\n",
            "1/1 [==============================] - 4s 4s/step - loss: 0.0032 - val_loss: 0.0039\n",
            "Epoch 193/200\n",
            "1/1 [==============================] - 4s 4s/step - loss: 0.0032 - val_loss: 0.0039\n",
            "Epoch 194/200\n",
            "1/1 [==============================] - 3s 3s/step - loss: 0.0032 - val_loss: 0.0039\n",
            "Epoch 195/200\n",
            "1/1 [==============================] - 4s 4s/step - loss: 0.0032 - val_loss: 0.0039\n",
            "Epoch 196/200\n",
            "1/1 [==============================] - 3s 3s/step - loss: 0.0032 - val_loss: 0.0039\n",
            "Epoch 197/200\n",
            "1/1 [==============================] - 3s 3s/step - loss: 0.0032 - val_loss: 0.0039\n",
            "Epoch 198/200\n",
            "1/1 [==============================] - 3s 3s/step - loss: 0.0032 - val_loss: 0.0039\n",
            "Epoch 199/200\n",
            "1/1 [==============================] - 4s 4s/step - loss: 0.0032 - val_loss: 0.0039\n",
            "Epoch 200/200\n",
            "1/1 [==============================] - 3s 3s/step - loss: 0.0032 - val_loss: 0.0039\n"
          ],
          "name": "stdout"
        }
      ]
    },
    {
      "cell_type": "code",
      "metadata": {
        "colab": {
          "base_uri": "https://localhost:8080/",
          "height": 265
        },
        "id": "SaDexEFi61JC",
        "outputId": "02c72e5a-8169-4cc9-99d6-e8d5589152fb"
      },
      "source": [
        "fig = plt.figure()\n",
        "plt.plot(history.history['loss'], label=\"loss\")\n",
        "plt.plot(history.history['val_loss'], label=\"val_loss\")\n",
        "plt.legend()\n",
        "plt.show()"
      ],
      "execution_count": null,
      "outputs": [
        {
          "output_type": "display_data",
          "data": {
            "image/png": "[encoded data removed]",
            "text/plain": [
              "<Figure size 432x288 with 1 Axes>"
            ]
          },
          "metadata": {
            "tags": [],
            "needs_background": "light"
          }
        }
      ]
    },
    {
      "cell_type": "code",
      "metadata": {
        "id": "vzxiHqdo7a0-"
      },
      "source": [
        "def model_forecast(model, series, window_size):\n",
        "  ds = tf.data.Dataset.from_tensor_slices(series)\n",
        "  ds = ds.window(window_size, shift=1, drop_remainder=True) \n",
        "  ds = ds.flat_map(lambda w: w.batch(window_size))\n",
        "  ds = ds.batch(SIZE).prefetch(1)\n",
        "  forecast = model.predict(ds)\n",
        "  return forecast"
      ],
      "execution_count": null,
      "outputs": []
    },
    {
      "cell_type": "code",
      "metadata": {
        "id": "xRJJX_b-7evM"
      },
      "source": [
        "Forecast = model_forecast(model, storeSales.storeSalesScaled.values[:, np.newaxis], WINDOW_SIZE)\n",
        "Results = Forecast[BATCH_SIZE-WINDOW_SIZE:-1]\n",
        "Results1 = scaler.inverse_transform(Results.reshape(-1,1))\n",
        "XValid1 = scaler.inverse_transform(XValid.reshape(-1,1))"
      ],
      "execution_count": null,
      "outputs": []
    },
    {
      "cell_type": "markdown",
      "metadata": {
        "id": "1nhcV-Aw4NGY"
      },
      "source": [
        "Model Evaluation.\n",
        "\n",
        "MAE tells us how big of error we can expect from the model.\n",
        "RMSE tells measures the error of the model in predicting quantitative data.\n",
        "\n"
      ]
    },
    {
      "cell_type": "code",
      "metadata": {
        "id": "6w7Y9_BU33QX"
      },
      "source": [
        "MAE = tf.keras.metrics.mean_absolute_error(XValid1[:,-1], Results[:,-1]).numpy()\n",
        "RMSE = np.sqrt(tf.keras.metrics.mean_squared_error(XValid1[:,-1], Results[:,-1]).numpy())\n",
        "\n",
        "textstr = \"MAE = \" + \"{:.3f}\".format(MAE) + \"  RMSE = \" + \"{:.3f}\".format(RMSE)"
      ],
      "execution_count": null,
      "outputs": []
    },
    {
      "cell_type": "code",
      "metadata": {
        "colab": {
          "base_uri": "https://localhost:8080/"
        },
        "id": "NmUmdFPm4AOp",
        "outputId": "88e663d4-ee75-447e-ab46-fe0ee4d499bb"
      },
      "source": [
        "print(textstr)"
      ],
      "execution_count": null,
      "outputs": [
        {
          "output_type": "stream",
          "text": [
            "MAE = 8320.520  RMSE = 8755.526\n"
          ],
          "name": "stdout"
        }
      ]
    }
  ]
}